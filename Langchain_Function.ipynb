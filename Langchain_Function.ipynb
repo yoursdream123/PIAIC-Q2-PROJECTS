{
  "nbformat": 4,
  "nbformat_minor": 0,
  "metadata": {
    "colab": {
      "provenance": [],
      "gpuType": "T4",
      "authorship_tag": "ABX9TyOW/hj4yLhIjEpM2UMllJmV",
      "include_colab_link": true
    },
    "kernelspec": {
      "name": "python3",
      "display_name": "Python 3"
    },
    "language_info": {
      "name": "python"
    },
    "accelerator": "GPU"
  },
  "cells": [
    {
      "cell_type": "markdown",
      "metadata": {
        "id": "view-in-github",
        "colab_type": "text"
      },
      "source": [
        "<a href=\"https://colab.research.google.com/github/yoursdream123/PIAIC-Q2-PROJECTS/blob/main/Langchain_Function.ipynb\" target=\"_parent\"><img src=\"https://colab.research.google.com/assets/colab-badge.svg\" alt=\"Open In Colab\"/></a>"
      ]
    },
    {
      "cell_type": "markdown",
      "source": [
        "# **Project 3: LangChain Function/Tool Calling Calculator**\n",
        "In this Project, we will create a simple LangChain Colab Notebook that uses the Google Gemini Flash model to answer user calculation questions.\n",
        "## **Building a LangChain Calculator with Google Gemini Flash**\n",
        "**Prerequisites**\n",
        "\n",
        "\n",
        "1.   Google Colab signup.\n",
        "2.   API key for Google Gemini Flash.\n",
        "3.   Installed libraries: python dotenv, langchain community, google-generativeai, langchain, langchain google genai"
      ],
      "metadata": {
        "id": "pWkbjhLmrruT"
      }
    },
    {
      "cell_type": "code",
      "source": [
        "!pip install python-dotenv -q\n",
        "!pip install langchain-community -U -q\n",
        "!pip install google-generativeai -U -q # Update `google-generativeai` package\n",
        "!pip install langchain -U -q\n",
        "!pip install langchain_google_genai -U -q"
      ],
      "metadata": {
        "colab": {
          "base_uri": "https://localhost:8080/"
        },
        "id": "a5RQ3Dcrp5iF",
        "outputId": "5d5ed5cf-0031-4a4a-dc40-44aaf6a734c9"
      },
      "execution_count": 20,
      "outputs": [
        {
          "output_type": "stream",
          "name": "stdout",
          "text": [
            "\u001b[?25l   \u001b[90m━━━━━━━━━━━━━━━━━━━━━━━━━━━━━━━━━━━━━━━━\u001b[0m \u001b[32m0.0/41.3 kB\u001b[0m \u001b[31m?\u001b[0m eta \u001b[36m-:--:--\u001b[0m\r\u001b[2K   \u001b[90m━━━━━━━━━━━━━━━━━━━━━━━━━━━━━━━━━━━━━━━━\u001b[0m \u001b[32m41.3/41.3 kB\u001b[0m \u001b[31m2.3 MB/s\u001b[0m eta \u001b[36m0:00:00\u001b[0m\n",
            "\u001b[?25h"
          ]
        }
      ]
    },
    {
      "cell_type": "markdown",
      "source": [
        "### **Step 1: Import API keys in Colab from secrets**"
      ],
      "metadata": {
        "id": "k_-VTCmXs9Wr"
      }
    },
    {
      "cell_type": "code",
      "source": [
        "from google.colab import userdata\n",
        "userdata.get('GOOGLE_API_KEY_2')\n",
        "\n",
        "# Step 1: Retrieve the API key from Colab's user data\n",
        "api_key = userdata.get('GOOGLE_API_KEY_2')"
      ],
      "metadata": {
        "id": "XFjurUaVqEpq"
      },
      "execution_count": 21,
      "outputs": []
    },
    {
      "cell_type": "markdown",
      "source": [
        "### **Step 2: Define the Calculator Tool**\n",
        "The calculator tool will handle basic arithmetic operations."
      ],
      "metadata": {
        "id": "1tz3jVPbtHOk"
      }
    },
    {
      "cell_type": "code",
      "source": [
        "class Calculator:\n",
        "    def calculate(self, expression: str) -> str:\n",
        "        try:\n",
        "            # Use Python's eval to compute the result safely\n",
        "            result = eval(expression, {\"__builtins__\": None}, {})\n",
        "            return str(result)\n",
        "        except Exception as e:\n",
        "            return f\"Error: {e}\""
      ],
      "metadata": {
        "id": "Qj-t3nCGqPTV"
      },
      "execution_count": 22,
      "outputs": []
    },
    {
      "cell_type": "markdown",
      "source": [
        "### **Step 3: Create the Tool Wrapper for LangChain**\n",
        "Integrate the calculator with LangChain as a tool."
      ],
      "metadata": {
        "id": "-ltgkHZBtZFR"
      }
    },
    {
      "cell_type": "code",
      "source": [
        "from langchain.tools import tool\n",
        "\n",
        "# Define the tool using a decorator\n",
        "@tool\n",
        "def calculator(expression: str) -> str:\n",
        "    \"\"\"\n",
        "    Perform arithmetic calculations.\n",
        "    Input: A mathematical expression as a string (e.g., \"2 + 2\").\n",
        "    Output: Result of the calculation as a string.\n",
        "    \"\"\"\n",
        "    calc = Calculator()\n",
        "    return calc.calculate(expression)"
      ],
      "metadata": {
        "id": "VlHg_PaOqVRJ"
      },
      "execution_count": 23,
      "outputs": []
    },
    {
      "cell_type": "markdown",
      "source": [
        "### **Step 4: Set Up the Google Gemini Flash Model**\n",
        "\n",
        "We initialize the Google Gemini Flash model with the API key and define the tools to be used by the agent."
      ],
      "metadata": {
        "id": "uFStMLDut028"
      }
    },
    {
      "cell_type": "code",
      "source": [
        "import os\n",
        "from langchain_google_genai.chat_models import ChatGoogleGenerativeAI\n",
        "from langchain.chains.conversation.memory import ConversationBufferMemory\n",
        "\n",
        "# Initialize the Google Gemini Flash model\n",
        "gemini_model = ChatGoogleGenerativeAI(\n",
        "    model=\"gemini-1.5-flash\",  # Specify the model name, e.g., 'gemini-1.5-flash'\n",
        "    api_key=userdata.get('GOOGLE_API_KEY_2'),\n",
        "    temperature=0.7\n",
        ")\n",
        "print(\"Google Gemini Flash model initialized.\")"
      ],
      "metadata": {
        "colab": {
          "base_uri": "https://localhost:8080/"
        },
        "id": "A0V5-DC6qaHH",
        "outputId": "b47ce42f-075e-4b5c-f829-7bea0fe6966d"
      },
      "execution_count": 24,
      "outputs": [
        {
          "output_type": "stream",
          "name": "stdout",
          "text": [
            "Google Gemini Flash model initialized.\n"
          ]
        }
      ]
    },
    {
      "cell_type": "code",
      "source": [
        "from langchain.agents import initialize_agent, AgentType\n",
        "from langchain.tools import tool\n",
        "\n",
        "\n",
        "# Create a list of tools\n",
        "tools = [calculator]\n",
        "\n",
        "# Initialize the agent\n",
        "agent = initialize_agent(\n",
        "    tools=tools,\n",
        "    llm=gemini_model,\n",
        "    agent_type=\"openai-function-calling\"\n",
        ")\n",
        "\n",
        "# Example usage\n",
        "response = agent.invoke(\"What is 12 * 15?\")\n",
        "print(response)"
      ],
      "metadata": {
        "colab": {
          "base_uri": "https://localhost:8080/"
        },
        "id": "k4OoEMZhqlZ8",
        "outputId": "fc4948d0-b01d-4720-8ff6-2f0d4b645a3e"
      },
      "execution_count": 25,
      "outputs": [
        {
          "output_type": "stream",
          "name": "stderr",
          "text": [
            "<ipython-input-25-c1691c3d192b>:9: LangChainDeprecationWarning: LangChain agents will continue to be supported, but it is recommended for new use cases to be built with LangGraph. LangGraph offers a more flexible and full-featured framework for building agents, including support for tool-calling, persistence of state, and human-in-the-loop workflows. For details, refer to the `LangGraph documentation <https://langchain-ai.github.io/langgraph/>`_ as well as guides for `Migrating from AgentExecutor <https://python.langchain.com/docs/how_to/migrate_agent/>`_ and LangGraph's `Pre-built ReAct agent <https://langchain-ai.github.io/langgraph/how-tos/create-react-agent/>`_.\n",
            "  agent = initialize_agent(\n"
          ]
        },
        {
          "output_type": "stream",
          "name": "stdout",
          "text": [
            "{'input': 'What is 12 * 15?', 'output': '180'}\n"
          ]
        }
      ]
    },
    {
      "cell_type": "markdown",
      "source": [
        "### **Step 5: Build the Conversational Chain**\n",
        "\n",
        "We set up a conversational chain with memory to maintain context across multiple queries."
      ],
      "metadata": {
        "id": "8xEsVPnHuBkY"
      }
    },
    {
      "cell_type": "code",
      "source": [
        "from langchain.memory import ConversationBufferMemory\n",
        "from langchain.chains import ConversationChain\n",
        "\n",
        "# Set up memory to maintain conversation context\n",
        "memory = ConversationBufferMemory()\n",
        "\n",
        "# Build the conversational chain\n",
        "chain = ConversationChain(\n",
        "    llm=gemini_model,\n",
        "    memory=memory,\n",
        "    verbose=True\n",
        ")\n",
        "\n",
        "# Example usage\n",
        "response = chain.invoke(\"What is 12 * 15?\")\n",
        "print(response)"
      ],
      "metadata": {
        "colab": {
          "base_uri": "https://localhost:8080/"
        },
        "id": "YcaGEhxkqzMG",
        "outputId": "a0cac4c1-f6f4-4005-9347-fcc7974151b6"
      },
      "execution_count": 26,
      "outputs": [
        {
          "output_type": "stream",
          "name": "stderr",
          "text": [
            "<ipython-input-26-0ebed092f483>:5: LangChainDeprecationWarning: Please see the migration guide at: https://python.langchain.com/docs/versions/migrating_memory/\n",
            "  memory = ConversationBufferMemory()\n",
            "<ipython-input-26-0ebed092f483>:8: LangChainDeprecationWarning: The class `ConversationChain` was deprecated in LangChain 0.2.7 and will be removed in 1.0. Use :meth:`~RunnableWithMessageHistory: https://python.langchain.com/v0.2/api_reference/core/runnables/langchain_core.runnables.history.RunnableWithMessageHistory.html` instead.\n",
            "  chain = ConversationChain(\n"
          ]
        },
        {
          "output_type": "stream",
          "name": "stdout",
          "text": [
            "\n",
            "\n",
            "\u001b[1m> Entering new ConversationChain chain...\u001b[0m\n",
            "Prompt after formatting:\n",
            "\u001b[32;1m\u001b[1;3mThe following is a friendly conversation between a human and an AI. The AI is talkative and provides lots of specific details from its context. If the AI does not know the answer to a question, it truthfully says it does not know.\n",
            "\n",
            "Current conversation:\n",
            "\n",
            "Human: What is 12 * 15?\n",
            "AI:\u001b[0m\n",
            "\n",
            "\u001b[1m> Finished chain.\u001b[0m\n",
            "{'input': 'What is 12 * 15?', 'history': '', 'response': '12 * 15 is 180.  I arrived at that answer through a couple of mental math strategies.  I could have done standard long multiplication, but I found it quicker to break it down.  I thought of 12 as 10 + 2.  Then, 10 * 15 = 150, and 2 * 15 = 30.  Adding those together (150 + 30) gives you 180.  Of course, a calculator could also easily confirm this.\\n'}\n"
          ]
        }
      ]
    },
    {
      "cell_type": "markdown",
      "source": [
        "### **Step 6: Test the Calculator Tool**\n",
        "\n",
        "We test the calculator tool by processing a series of queries and printing the responses."
      ],
      "metadata": {
        "id": "qSd7i-v5uRQ_"
      }
    },
    {
      "cell_type": "code",
      "source": [
        "# User query\n",
        "query = \"What is 15 divided by 3?\"\n",
        "\n",
        "# Get response from the system\n",
        "response = chain.invoke(query)\n",
        "print(response)"
      ],
      "metadata": {
        "colab": {
          "base_uri": "https://localhost:8080/"
        },
        "id": "RmuUFTBUrBso",
        "outputId": "c2610a05-8dcd-49d2-b010-d7100c461c1a"
      },
      "execution_count": 27,
      "outputs": [
        {
          "output_type": "stream",
          "name": "stdout",
          "text": [
            "\n",
            "\n",
            "\u001b[1m> Entering new ConversationChain chain...\u001b[0m\n",
            "Prompt after formatting:\n",
            "\u001b[32;1m\u001b[1;3mThe following is a friendly conversation between a human and an AI. The AI is talkative and provides lots of specific details from its context. If the AI does not know the answer to a question, it truthfully says it does not know.\n",
            "\n",
            "Current conversation:\n",
            "Human: What is 12 * 15?\n",
            "AI: 12 * 15 is 180.  I arrived at that answer through a couple of mental math strategies.  I could have done standard long multiplication, but I found it quicker to break it down.  I thought of 12 as 10 + 2.  Then, 10 * 15 = 150, and 2 * 15 = 30.  Adding those together (150 + 30) gives you 180.  Of course, a calculator could also easily confirm this.\n",
            "\n",
            "Human: What is 15 divided by 3?\n",
            "AI:\u001b[0m\n",
            "\n",
            "\u001b[1m> Finished chain.\u001b[0m\n",
            "{'input': 'What is 15 divided by 3?', 'history': 'Human: What is 12 * 15?\\nAI: 12 * 15 is 180.  I arrived at that answer through a couple of mental math strategies.  I could have done standard long multiplication, but I found it quicker to break it down.  I thought of 12 as 10 + 2.  Then, 10 * 15 = 150, and 2 * 15 = 30.  Adding those together (150 + 30) gives you 180.  Of course, a calculator could also easily confirm this.\\n', 'response': '15 divided by 3 is 5.  This is a simple division problem.  Three goes into fifteen five times (3 x 5 = 15).  I can confirm this using a variety of computational methods, including long division, but this is easily solved through basic multiplication knowledge.\\n'}\n"
          ]
        }
      ]
    },
    {
      "cell_type": "code",
      "source": [
        "queries = [\n",
        "    \"What is 25 multiplied by 4?\",\n",
        "    \"Now divide the result by 5.\",\n",
        "    \"Add 10 to that.\"\n",
        "]\n",
        "\n",
        "for q in queries:\n",
        "    print(\"Query:\", q)\n",
        "    print(\"Response:\", chain.invoke(q))\n",
        "    print(\"-\" * 40)"
      ],
      "metadata": {
        "colab": {
          "base_uri": "https://localhost:8080/"
        },
        "id": "0Zoq6JJjrLY2",
        "outputId": "81fbcb94-5631-4587-8011-ce0b27efd4c3"
      },
      "execution_count": 28,
      "outputs": [
        {
          "output_type": "stream",
          "name": "stdout",
          "text": [
            "Query: What is 25 multiplied by 4?\n",
            "\n",
            "\n",
            "\u001b[1m> Entering new ConversationChain chain...\u001b[0m\n",
            "Prompt after formatting:\n",
            "\u001b[32;1m\u001b[1;3mThe following is a friendly conversation between a human and an AI. The AI is talkative and provides lots of specific details from its context. If the AI does not know the answer to a question, it truthfully says it does not know.\n",
            "\n",
            "Current conversation:\n",
            "Human: What is 12 * 15?\n",
            "AI: 12 * 15 is 180.  I arrived at that answer through a couple of mental math strategies.  I could have done standard long multiplication, but I found it quicker to break it down.  I thought of 12 as 10 + 2.  Then, 10 * 15 = 150, and 2 * 15 = 30.  Adding those together (150 + 30) gives you 180.  Of course, a calculator could also easily confirm this.\n",
            "\n",
            "Human: What is 15 divided by 3?\n",
            "AI: 15 divided by 3 is 5.  This is a simple division problem.  Three goes into fifteen five times (3 x 5 = 15).  I can confirm this using a variety of computational methods, including long division, but this is easily solved through basic multiplication knowledge.\n",
            "\n",
            "Human: What is 25 multiplied by 4?\n",
            "AI:\u001b[0m\n",
            "\n",
            "\u001b[1m> Finished chain.\u001b[0m\n",
            "Response: {'input': 'What is 25 multiplied by 4?', 'history': 'Human: What is 12 * 15?\\nAI: 12 * 15 is 180.  I arrived at that answer through a couple of mental math strategies.  I could have done standard long multiplication, but I found it quicker to break it down.  I thought of 12 as 10 + 2.  Then, 10 * 15 = 150, and 2 * 15 = 30.  Adding those together (150 + 30) gives you 180.  Of course, a calculator could also easily confirm this.\\n\\nHuman: What is 15 divided by 3?\\nAI: 15 divided by 3 is 5.  This is a simple division problem.  Three goes into fifteen five times (3 x 5 = 15).  I can confirm this using a variety of computational methods, including long division, but this is easily solved through basic multiplication knowledge.\\n', 'response': '25 multiplied by 4 is 100.  I solved this by thinking of 25 as a quarter of 100. Since there are four quarters in a whole, four quarters (or four 25s) equals 100.  Alternatively, I could have used the standard multiplication algorithm, or even doubled 25 twice (25 x 2 = 50, 50 x 2 = 100).  Many approaches work for this problem!\\n'}\n",
            "----------------------------------------\n",
            "Query: Now divide the result by 5.\n",
            "\n",
            "\n",
            "\u001b[1m> Entering new ConversationChain chain...\u001b[0m\n",
            "Prompt after formatting:\n",
            "\u001b[32;1m\u001b[1;3mThe following is a friendly conversation between a human and an AI. The AI is talkative and provides lots of specific details from its context. If the AI does not know the answer to a question, it truthfully says it does not know.\n",
            "\n",
            "Current conversation:\n",
            "Human: What is 12 * 15?\n",
            "AI: 12 * 15 is 180.  I arrived at that answer through a couple of mental math strategies.  I could have done standard long multiplication, but I found it quicker to break it down.  I thought of 12 as 10 + 2.  Then, 10 * 15 = 150, and 2 * 15 = 30.  Adding those together (150 + 30) gives you 180.  Of course, a calculator could also easily confirm this.\n",
            "\n",
            "Human: What is 15 divided by 3?\n",
            "AI: 15 divided by 3 is 5.  This is a simple division problem.  Three goes into fifteen five times (3 x 5 = 15).  I can confirm this using a variety of computational methods, including long division, but this is easily solved through basic multiplication knowledge.\n",
            "\n",
            "Human: What is 25 multiplied by 4?\n",
            "AI: 25 multiplied by 4 is 100.  I solved this by thinking of 25 as a quarter of 100. Since there are four quarters in a whole, four quarters (or four 25s) equals 100.  Alternatively, I could have used the standard multiplication algorithm, or even doubled 25 twice (25 x 2 = 50, 50 x 2 = 100).  Many approaches work for this problem!\n",
            "\n",
            "Human: Now divide the result by 5.\n",
            "AI:\u001b[0m\n",
            "\n",
            "\u001b[1m> Finished chain.\u001b[0m\n",
            "Response: {'input': 'Now divide the result by 5.', 'history': 'Human: What is 12 * 15?\\nAI: 12 * 15 is 180.  I arrived at that answer through a couple of mental math strategies.  I could have done standard long multiplication, but I found it quicker to break it down.  I thought of 12 as 10 + 2.  Then, 10 * 15 = 150, and 2 * 15 = 30.  Adding those together (150 + 30) gives you 180.  Of course, a calculator could also easily confirm this.\\n\\nHuman: What is 15 divided by 3?\\nAI: 15 divided by 3 is 5.  This is a simple division problem.  Three goes into fifteen five times (3 x 5 = 15).  I can confirm this using a variety of computational methods, including long division, but this is easily solved through basic multiplication knowledge.\\n\\nHuman: What is 25 multiplied by 4?\\nAI: 25 multiplied by 4 is 100.  I solved this by thinking of 25 as a quarter of 100. Since there are four quarters in a whole, four quarters (or four 25s) equals 100.  Alternatively, I could have used the standard multiplication algorithm, or even doubled 25 twice (25 x 2 = 50, 50 x 2 = 100).  Many approaches work for this problem!\\n', 'response': 'Now divide the result by 5.\\n\\n100 divided by 5 is 20.  This is a straightforward division problem. Five goes into ten twice, and five goes into zero zero times.  Therefore, 100 / 5 = 20.  I could also have solved this by noting that 5 x 20 = 100.  Many methods exist to solve this simple division problem.\\n'}\n",
            "----------------------------------------\n",
            "Query: Add 10 to that.\n",
            "\n",
            "\n",
            "\u001b[1m> Entering new ConversationChain chain...\u001b[0m\n",
            "Prompt after formatting:\n",
            "\u001b[32;1m\u001b[1;3mThe following is a friendly conversation between a human and an AI. The AI is talkative and provides lots of specific details from its context. If the AI does not know the answer to a question, it truthfully says it does not know.\n",
            "\n",
            "Current conversation:\n",
            "Human: What is 12 * 15?\n",
            "AI: 12 * 15 is 180.  I arrived at that answer through a couple of mental math strategies.  I could have done standard long multiplication, but I found it quicker to break it down.  I thought of 12 as 10 + 2.  Then, 10 * 15 = 150, and 2 * 15 = 30.  Adding those together (150 + 30) gives you 180.  Of course, a calculator could also easily confirm this.\n",
            "\n",
            "Human: What is 15 divided by 3?\n",
            "AI: 15 divided by 3 is 5.  This is a simple division problem.  Three goes into fifteen five times (3 x 5 = 15).  I can confirm this using a variety of computational methods, including long division, but this is easily solved through basic multiplication knowledge.\n",
            "\n",
            "Human: What is 25 multiplied by 4?\n",
            "AI: 25 multiplied by 4 is 100.  I solved this by thinking of 25 as a quarter of 100. Since there are four quarters in a whole, four quarters (or four 25s) equals 100.  Alternatively, I could have used the standard multiplication algorithm, or even doubled 25 twice (25 x 2 = 50, 50 x 2 = 100).  Many approaches work for this problem!\n",
            "\n",
            "Human: Now divide the result by 5.\n",
            "AI: Now divide the result by 5.\n",
            "\n",
            "100 divided by 5 is 20.  This is a straightforward division problem. Five goes into ten twice, and five goes into zero zero times.  Therefore, 100 / 5 = 20.  I could also have solved this by noting that 5 x 20 = 100.  Many methods exist to solve this simple division problem.\n",
            "\n",
            "Human: Add 10 to that.\n",
            "AI:\u001b[0m\n",
            "\n",
            "\u001b[1m> Finished chain.\u001b[0m\n",
            "Response: {'input': 'Add 10 to that.', 'history': 'Human: What is 12 * 15?\\nAI: 12 * 15 is 180.  I arrived at that answer through a couple of mental math strategies.  I could have done standard long multiplication, but I found it quicker to break it down.  I thought of 12 as 10 + 2.  Then, 10 * 15 = 150, and 2 * 15 = 30.  Adding those together (150 + 30) gives you 180.  Of course, a calculator could also easily confirm this.\\n\\nHuman: What is 15 divided by 3?\\nAI: 15 divided by 3 is 5.  This is a simple division problem.  Three goes into fifteen five times (3 x 5 = 15).  I can confirm this using a variety of computational methods, including long division, but this is easily solved through basic multiplication knowledge.\\n\\nHuman: What is 25 multiplied by 4?\\nAI: 25 multiplied by 4 is 100.  I solved this by thinking of 25 as a quarter of 100. Since there are four quarters in a whole, four quarters (or four 25s) equals 100.  Alternatively, I could have used the standard multiplication algorithm, or even doubled 25 twice (25 x 2 = 50, 50 x 2 = 100).  Many approaches work for this problem!\\n\\nHuman: Now divide the result by 5.\\nAI: Now divide the result by 5.\\n\\n100 divided by 5 is 20.  This is a straightforward division problem. Five goes into ten twice, and five goes into zero zero times.  Therefore, 100 / 5 = 20.  I could also have solved this by noting that 5 x 20 = 100.  Many methods exist to solve this simple division problem.\\n', 'response': 'Adding 10 to 20 results in 30.  This is a simple addition problem.  I can confirm this using a variety of methods, including counting on my fingers (though that would be inefficient for larger numbers!), using a number line, or simply recognizing that 20 + 10 = 30.\\n'}\n",
            "----------------------------------------\n"
          ]
        }
      ]
    }
  ]
}